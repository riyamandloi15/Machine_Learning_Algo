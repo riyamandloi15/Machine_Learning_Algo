{
  "nbformat": 4,
  "nbformat_minor": 0,
  "metadata": {
    "colab": {
      "provenance": [],
      "authorship_tag": "ABX9TyNUfrKSuwkMVAOt4/AjBA1J",
      "include_colab_link": true
    },
    "kernelspec": {
      "name": "python3",
      "display_name": "Python 3"
    },
    "language_info": {
      "name": "python"
    }
  },
  "cells": [
    {
      "cell_type": "markdown",
      "metadata": {
        "id": "view-in-github",
        "colab_type": "text"
      },
      "source": [
        "<a href=\"https://colab.research.google.com/github/riyamandloi15/Machine_Learning_Algo/blob/main/Logistic_Regression_assignment.ipynb\" target=\"_parent\"><img src=\"https://colab.research.google.com/assets/colab-badge.svg\" alt=\"Open In Colab\"/></a>"
      ]
    },
    {
      "cell_type": "code",
      "source": [
        "import numpy as np\n",
        "import pandas as pd\n",
        "from sklearn.model_selection import train_test_split\n",
        "from sklearn.metrics import accuracy_score\n",
        "\n",
        "# Step 1: Create the CGPA Dataset\n",
        "data = {\n",
        "    \"CGPA\": [9.1, 8.5, 7.2, 6.8, 5.5, 8.0, 9.5, 6.0, 7.5, 8.8,\n",
        "             9.0, 8.7, 5.0, 7.8, 9.3, 6.2, 6.5, 7.9, 9.1, 5.9],\n",
        "    \"Extracurricular\": [1, 1, 0, 0, 0, 1, 1, 0, 1, 1,\n",
        "                        1, 1, 0, 1, 1, 0, 0, 1, 1, 0],\n",
        "    \"Communication\": [9, 8, 7, 6, 5, 8, 9, 6, 7, 8,\n",
        "                      9, 8, 5, 7, 9, 6, 6, 7, 9, 5],\n",
        "    \"Placement\": [1, 1, 0, 0, 0, 1, 1, 0, 1, 1,\n",
        "                  1, 1, 0, 1, 1, 0, 0, 1, 1, 0]\n",
        "}\n",
        "\n",
        "df = pd.DataFrame(data)\n",
        "\n",
        "# Step 2: Prepare Features and Target\n",
        "X = df[[\"CGPA\", \"Extracurricular\", \"Communication\"]].values  # Convert to NumPy array\n",
        "y = df[\"Placement\"].values\n",
        "\n",
        "# Split data into training and testing sets\n",
        "X_train, X_test, y_train, y_test = train_test_split(X, y, test_size=0.2, random_state=42)\n",
        "\n",
        "# Step 3: Define Functions for Logistic Regression\n",
        "def sigmoid(z):\n",
        "    \"\"\"Calculates the sigmoid function.\"\"\"\n",
        "    return 1 / (1 + np.exp(-z))\n",
        "\n",
        "def initialize_weights(n_features):\n",
        "    \"\"\"Initializes weights and bias to zeros.\"\"\"\n",
        "    weights = np.zeros(n_features)\n",
        "    bias = 0\n",
        "    return weights, bias\n",
        "\n",
        "def compute_loss(y, y_pred):\n",
        "    \"\"\"Calculates the binary cross-entropy loss.\"\"\"\n",
        "    m = len(y)\n",
        "    loss = -(1 / m) * np.sum(y * np.log(y_pred) + (1 - y) * np.log(1 - y_pred))\n",
        "    return loss\n",
        "\n",
        "def gradient_descent(X, y, weights, bias, learning_rate):\n",
        "    \"\"\"Performs one step of gradient descent.\"\"\"\n",
        "    m = X.shape[0]\n",
        "\n",
        "    # Predictions\n",
        "    linear_model = np.dot(X, weights) + bias\n",
        "    y_pred = sigmoid(linear_model)\n",
        "\n",
        "    # Gradients\n",
        "    dw = (1 / m) * np.dot(X.T, (y_pred - y))\n",
        "    db = (1 / m) * np.sum(y_pred - y)\n",
        "\n",
        "    # Update weights and bias\n",
        "    weights -= learning_rate * dw\n",
        "    bias -= learning_rate * db\n",
        "\n",
        "    return weights, bias\n",
        "\n",
        "def train_logistic_regression(X, y, learning_rate=0.01, num_iterations=1000):\n",
        "    \"\"\"Trains the logistic regression model.\"\"\"\n",
        "    n_features = X.shape[1]\n",
        "    weights, bias = initialize_weights(n_features)\n",
        "\n",
        "    for i in range(num_iterations):\n",
        "        weights, bias = gradient_descent(X, y, weights, bias, learning_rate)\n",
        "\n",
        "        if i % 100 == 0:\n",
        "            linear_model = np.dot(X, weights) + bias\n",
        "            y_pred = sigmoid(linear_model)\n",
        "            loss = compute_loss(y, y_pred)\n",
        "            print(f\"Iteration {i}: Loss = {loss}\")\n",
        "\n",
        "    return weights, bias\n",
        "\n",
        "def predict(X, weights, bias, threshold=0.5):\n",
        "    \"\"\"Makes predictions using the trained model.\"\"\"\n",
        "    linear_model = np.dot(X, weights) + bias\n",
        "    y_pred = sigmoid(linear_model)\n",
        "    return (y_pred >= threshold).astype(int)\n",
        "\n",
        "# Step 4: Train Logistic Regression Model\n",
        "weights, bias = train_logistic_regression(X_train, y_train, learning_rate=0.01, num_iterations=1000)\n",
        "\n",
        "# Step 5: Evaluate the Model\n",
        "predictions = predict(X_test, weights, bias)\n",
        "accuracy = accuracy_score(y_test, predictions)\n",
        "print(\"\\nTest Set Accuracy:\", accuracy)\n",
        "\n",
        "# Step 6: Test with New Data\n",
        "new_data = [[8.5, 1, 8]]  # Example input: CGPA=8.5, Extracurricular=1, Communication=8\n",
        "predicted_class = predict(new_data, weights, bias)\n",
        "print(f\"\\nNew Data Prediction: {'Placed' if predicted_class[0] == 1 else 'Not Placed'}\")\n"
      ],
      "metadata": {
        "colab": {
          "base_uri": "https://localhost:8080/"
        },
        "id": "STHt3sCCoRI5",
        "outputId": "7116d439-b6c7-47bf-d6ea-b2e33faedb43"
      },
      "execution_count": 1,
      "outputs": [
        {
          "output_type": "stream",
          "name": "stdout",
          "text": [
            "Iteration 0: Loss = 0.6725195276633424\n",
            "Iteration 100: Loss = 0.6093029987393035\n",
            "Iteration 200: Loss = 0.5716443809974603\n",
            "Iteration 300: Loss = 0.5371666004097756\n",
            "Iteration 400: Loss = 0.5055990281062887\n",
            "Iteration 500: Loss = 0.47668394363674704\n",
            "Iteration 600: Loss = 0.4501795496433817\n",
            "Iteration 700: Loss = 0.42586161556435953\n",
            "Iteration 800: Loss = 0.403524084295406\n",
            "Iteration 900: Loss = 0.38297893190430843\n",
            "\n",
            "Test Set Accuracy: 1.0\n",
            "\n",
            "New Data Prediction: Placed\n"
          ]
        }
      ]
    }
  ]
}